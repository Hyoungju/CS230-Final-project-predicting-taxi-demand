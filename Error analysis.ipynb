{
 "cells": [
  {
   "cell_type": "code",
   "execution_count": 1,
   "metadata": {},
   "outputs": [
    {
     "name": "stderr",
     "output_type": "stream",
     "text": [
      "/home/ubuntu/anaconda3/lib/python3.6/site-packages/h5py/__init__.py:36: FutureWarning: Conversion of the second argument of issubdtype from `float` to `np.floating` is deprecated. In future, it will be treated as `np.float64 == np.dtype(float).type`.\n",
      "  from ._conv import register_converters as _register_converters\n",
      "Using TensorFlow backend.\n",
      "/home/ubuntu/anaconda3/lib/python3.6/site-packages/matplotlib/__init__.py:1067: UserWarning: Duplicate key in file \"/home/ubuntu/.config/matplotlib/matplotlibrc\", line #2\n",
      "  (fname, cnt))\n",
      "/home/ubuntu/anaconda3/lib/python3.6/site-packages/matplotlib/__init__.py:1067: UserWarning: Duplicate key in file \"/home/ubuntu/.config/matplotlib/matplotlibrc\", line #3\n",
      "  (fname, cnt))\n"
     ]
    }
   ],
   "source": [
    "from sklearn.preprocessing import StandardScaler, RobustScaler, MinMaxScaler, Normalizer\n",
    "from sklearn.model_selection import cross_val_score\n",
    "from sklearn.preprocessing import MinMaxScaler\n",
    "from sklearn.metrics import mean_squared_error, mean_absolute_error\n",
    "from sklearn.metrics import r2_score\n",
    "from sklearn.utils import shuffle\n",
    "from sklearn.model_selection import train_test_split\n",
    "\n",
    "from keras.models import Sequential\n",
    "from keras.layers import Dense\n",
    "from keras.layers import LSTM\n",
    "from keras.layers import Dropout\n",
    "from keras.layers import Activation\n",
    "\n",
    "import pandas as pd\n",
    "import numpy as np\n",
    "import matplotlib.pyplot as plt\n",
    "import seaborn as sns\n",
    "import math\n",
    "\n",
    "%matplotlib inline\n",
    "# plt.style.use(\"ggplot\")\n",
    "sns.set_style(\"darkgrid\")"
   ]
  },
  {
   "cell_type": "code",
   "execution_count": 2,
   "metadata": {},
   "outputs": [],
   "source": [
    "data = pd.read_csv(\"final_10minutes.csv\")\n",
    "data.drop(['Month'], axis =1, inplace= True)\n",
    "#data.set_index(\"time\", inplace= True)\n",
    "num_pickups = data.total\n",
    "num_green_pickups = data.green\n",
    "num_yellow_pickups = data.yellow\n",
    "data.drop(['Unnamed: 0',  'green', 'yellow', 'total'], axis =1, inplace = True)"
   ]
  },
  {
   "cell_type": "code",
   "execution_count": 3,
   "metadata": {},
   "outputs": [],
   "source": [
    "def series_to_supervised(data, n_in, n_out, dropnan=True):\n",
    "    n_vars = 1 if type(data) is list else data.shape[1]\n",
    "    df = pd.DataFrame(data)\n",
    "    cols, names = list(), list()\n",
    "    \n",
    "    for i in range(n_in, 0, -1):\n",
    "        cols.append(df.shift(i))\n",
    "        names += [('var%d(t-%d)' % (j+1, i)) for j in range(n_vars)]\n",
    "        \n",
    "    for i in range(0, n_out):\n",
    "        cols.append(df.shift(-i))\n",
    "        if i == 0:\n",
    "            names += [('var%d(t)' % (j+1)) for j in range(n_vars)]\n",
    "        else:\n",
    "            names += [('var%d(t-%d)' % (j+1, i)) for j in range(n_vars)]\n",
    "    \n",
    "    agg = pd.concat(cols, axis = 1)\n",
    "    agg.columns = names\n",
    "    \n",
    "    if dropnan:\n",
    "        agg.dropna(inplace = True)\n",
    "        \n",
    "    return agg"
   ]
  },
  {
   "cell_type": "code",
   "execution_count": 4,
   "metadata": {},
   "outputs": [],
   "source": [
    "#normalize data & make LSTM model structure\n",
    "features_and_target = pd.concat([data, num_pickups], axis = 1)\n",
    "values = features_and_target.values\n",
    "\n",
    "values = values.astype('float32')\n",
    "\n",
    "scaler = MinMaxScaler(feature_range = (0, 1))\n",
    "scaled = scaler.fit_transform(values)\n",
    "\n",
    "n_hours = 47\n",
    "\n",
    "reframed = series_to_supervised(scaled, n_hours, 1)\n",
    "\n",
    "n_features = features_and_target.shape[1]\n"
   ]
  },
  {
   "cell_type": "code",
   "execution_count": 5,
   "metadata": {},
   "outputs": [],
   "source": [
    "# exlcude significantly deviated data\n",
    "total_values = reframed.values\n",
    "n_p = np.argmin(total_values[365*24*3*6:, -1])\n",
    "n_p = n_p + 365*24*3*6\n",
    "\n",
    "a = total_values[: n_p, :]\n",
    "b = total_values[n_p + n_hours + 6 + 1 : , :]\n",
    "values = np.concatenate((a, b), axis=0)"
   ]
  },
  {
   "cell_type": "code",
   "execution_count": 6,
   "metadata": {},
   "outputs": [
    {
     "name": "stdout",
     "output_type": "stream",
     "text": [
      "(157680, 235) 157680 (157680,)\n",
      "(157680, 47, 5) (157680,) (39355, 47, 5) (39355,)\n"
     ]
    }
   ],
   "source": [
    "# split into train and test sets \n",
    "n_train_hours = 365 * 24 * 3 * 6\n",
    "train = values[:n_train_hours, :]\n",
    "test = values[n_train_hours:, :]\n",
    "# split into input and outputs\n",
    "n_obs = n_hours * n_features\n",
    "train_X, train_y = train[:, :n_obs], train[:, -1]\n",
    "test_X, test_y = test[:, :n_obs], test[:, -1]\n",
    "print(train_X.shape, len(train_X), train_y.shape)\n",
    "# reshape input to be 3D [samples, timesteps, features]\n",
    "train_X = train_X.reshape((train_X.shape[0], n_hours, n_features))\n",
    "test_X = test_X.reshape((test_X.shape[0], n_hours, n_features))\n",
    "print(train_X.shape, train_y.shape, test_X.shape, test_y.shape)"
   ]
  },
  {
   "cell_type": "code",
   "execution_count": 7,
   "metadata": {},
   "outputs": [
    {
     "name": "stdout",
     "output_type": "stream",
     "text": [
      "Train on 157680 samples, validate on 39355 samples\n",
      "Epoch 1/100\n",
      " - 42s - loss: 0.0291 - val_loss: 0.0126\n",
      "Epoch 2/100\n",
      " - 41s - loss: 0.0145 - val_loss: 0.0098\n",
      "Epoch 3/100\n",
      " - 42s - loss: 0.0129 - val_loss: 0.0097\n",
      "Epoch 4/100\n",
      " - 43s - loss: 0.0118 - val_loss: 0.0093\n",
      "Epoch 5/100\n",
      " - 41s - loss: 0.0114 - val_loss: 0.0093\n",
      "Epoch 6/100\n",
      " - 42s - loss: 0.0111 - val_loss: 0.0093\n",
      "Epoch 7/100\n",
      " - 41s - loss: 0.0109 - val_loss: 0.0089\n",
      "Epoch 8/100\n",
      " - 43s - loss: 0.0107 - val_loss: 0.0093\n",
      "Epoch 9/100\n",
      " - 42s - loss: 0.0105 - val_loss: 0.0088\n",
      "Epoch 10/100\n",
      " - 41s - loss: 0.0102 - val_loss: 0.0096\n",
      "Epoch 11/100\n",
      " - 42s - loss: 0.0103 - val_loss: 0.0093\n",
      "Epoch 12/100\n",
      " - 44s - loss: 0.0101 - val_loss: 0.0091\n",
      "Epoch 13/100\n",
      " - 41s - loss: 0.0099 - val_loss: 0.0088\n",
      "Epoch 14/100\n",
      " - 42s - loss: 0.0099 - val_loss: 0.0093\n",
      "Epoch 15/100\n",
      " - 44s - loss: 0.0098 - val_loss: 0.0093\n",
      "Epoch 16/100\n",
      " - 41s - loss: 0.0098 - val_loss: 0.0093\n",
      "Epoch 17/100\n",
      " - 41s - loss: 0.0097 - val_loss: 0.0096\n",
      "Epoch 18/100\n",
      " - 39s - loss: 0.0096 - val_loss: 0.0093\n",
      "Epoch 19/100\n",
      " - 39s - loss: 0.0095 - val_loss: 0.0092\n",
      "Epoch 20/100\n",
      " - 40s - loss: 0.0093 - val_loss: 0.0087\n",
      "Epoch 21/100\n",
      " - 42s - loss: 0.0091 - val_loss: 0.0085\n",
      "Epoch 22/100\n",
      " - 42s - loss: 0.0089 - val_loss: 0.0083\n",
      "Epoch 23/100\n",
      " - 42s - loss: 0.0088 - val_loss: 0.0084\n",
      "Epoch 24/100\n",
      " - 42s - loss: 0.0087 - val_loss: 0.0085\n",
      "Epoch 25/100\n",
      " - 43s - loss: 0.0087 - val_loss: 0.0086\n",
      "Epoch 26/100\n",
      " - 42s - loss: 0.0086 - val_loss: 0.0084\n",
      "Epoch 27/100\n",
      " - 43s - loss: 0.0086 - val_loss: 0.0085\n",
      "Epoch 28/100\n",
      " - 43s - loss: 0.0085 - val_loss: 0.0086\n",
      "Epoch 29/100\n",
      " - 42s - loss: 0.0085 - val_loss: 0.0085\n",
      "Epoch 30/100\n",
      " - 42s - loss: 0.0084 - val_loss: 0.0085\n",
      "Epoch 31/100\n",
      " - 42s - loss: 0.0084 - val_loss: 0.0083\n",
      "Epoch 32/100\n",
      " - 43s - loss: 0.0084 - val_loss: 0.0082\n",
      "Epoch 33/100\n",
      " - 43s - loss: 0.0083 - val_loss: 0.0084\n",
      "Epoch 34/100\n",
      " - 44s - loss: 0.0083 - val_loss: 0.0083\n",
      "Epoch 35/100\n",
      " - 43s - loss: 0.0082 - val_loss: 0.0083\n",
      "Epoch 36/100\n",
      " - 42s - loss: 0.0082 - val_loss: 0.0083\n",
      "Epoch 37/100\n",
      " - 43s - loss: 0.0082 - val_loss: 0.0082\n",
      "Epoch 38/100\n",
      " - 44s - loss: 0.0082 - val_loss: 0.0081\n",
      "Epoch 39/100\n",
      " - 43s - loss: 0.0082 - val_loss: 0.0082\n",
      "Epoch 40/100\n",
      " - 43s - loss: 0.0081 - val_loss: 0.0081\n",
      "Epoch 41/100\n",
      " - 42s - loss: 0.0081 - val_loss: 0.0081\n",
      "Epoch 42/100\n",
      " - 44s - loss: 0.0081 - val_loss: 0.0080\n",
      "Epoch 43/100\n",
      " - 43s - loss: 0.0081 - val_loss: 0.0080\n",
      "Epoch 44/100\n",
      " - 42s - loss: 0.0081 - val_loss: 0.0079\n",
      "Epoch 45/100\n",
      " - 43s - loss: 0.0081 - val_loss: 0.0079\n",
      "Epoch 46/100\n",
      " - 43s - loss: 0.0080 - val_loss: 0.0080\n",
      "Epoch 47/100\n",
      " - 43s - loss: 0.0080 - val_loss: 0.0080\n",
      "Epoch 48/100\n",
      " - 43s - loss: 0.0080 - val_loss: 0.0079\n",
      "Epoch 49/100\n",
      " - 42s - loss: 0.0080 - val_loss: 0.0079\n",
      "Epoch 50/100\n",
      " - 43s - loss: 0.0080 - val_loss: 0.0078\n",
      "Epoch 51/100\n",
      " - 43s - loss: 0.0080 - val_loss: 0.0079\n",
      "Epoch 52/100\n",
      " - 43s - loss: 0.0079 - val_loss: 0.0079\n",
      "Epoch 53/100\n",
      " - 43s - loss: 0.0079 - val_loss: 0.0079\n",
      "Epoch 54/100\n",
      " - 42s - loss: 0.0079 - val_loss: 0.0078\n",
      "Epoch 55/100\n",
      " - 43s - loss: 0.0079 - val_loss: 0.0078\n",
      "Epoch 56/100\n",
      " - 43s - loss: 0.0079 - val_loss: 0.0079\n",
      "Epoch 57/100\n",
      " - 43s - loss: 0.0079 - val_loss: 0.0078\n",
      "Epoch 58/100\n",
      " - 43s - loss: 0.0079 - val_loss: 0.0079\n",
      "Epoch 59/100\n",
      " - 42s - loss: 0.0079 - val_loss: 0.0077\n",
      "Epoch 60/100\n",
      " - 43s - loss: 0.0079 - val_loss: 0.0078\n",
      "Epoch 61/100\n",
      " - 41s - loss: 0.0078 - val_loss: 0.0077\n",
      "Epoch 62/100\n",
      " - 41s - loss: 0.0078 - val_loss: 0.0080\n",
      "Epoch 63/100\n",
      " - 42s - loss: 0.0078 - val_loss: 0.0077\n",
      "Epoch 64/100\n",
      " - 42s - loss: 0.0078 - val_loss: 0.0078\n",
      "Epoch 65/100\n",
      " - 42s - loss: 0.0078 - val_loss: 0.0077\n",
      "Epoch 66/100\n",
      " - 42s - loss: 0.0078 - val_loss: 0.0077\n",
      "Epoch 67/100\n",
      " - 43s - loss: 0.0078 - val_loss: 0.0078\n",
      "Epoch 68/100\n",
      " - 44s - loss: 0.0078 - val_loss: 0.0077\n",
      "Epoch 69/100\n",
      " - 43s - loss: 0.0078 - val_loss: 0.0077\n",
      "Epoch 70/100\n",
      " - 42s - loss: 0.0078 - val_loss: 0.0077\n",
      "Epoch 71/100\n",
      " - 42s - loss: 0.0078 - val_loss: 0.0076\n",
      "Epoch 72/100\n",
      " - 44s - loss: 0.0078 - val_loss: 0.0076\n",
      "Epoch 73/100\n",
      " - 43s - loss: 0.0077 - val_loss: 0.0077\n",
      "Epoch 74/100\n",
      " - 43s - loss: 0.0077 - val_loss: 0.0076\n",
      "Epoch 75/100\n",
      " - 42s - loss: 0.0077 - val_loss: 0.0077\n",
      "Epoch 76/100\n",
      " - 42s - loss: 0.0077 - val_loss: 0.0075\n",
      "Epoch 77/100\n",
      " - 42s - loss: 0.0077 - val_loss: 0.0077\n",
      "Epoch 78/100\n",
      " - 43s - loss: 0.0077 - val_loss: 0.0077\n",
      "Epoch 79/100\n",
      " - 43s - loss: 0.0077 - val_loss: 0.0075\n",
      "Epoch 80/100\n",
      " - 44s - loss: 0.0077 - val_loss: 0.0076\n",
      "Epoch 81/100\n",
      " - 41s - loss: 0.0077 - val_loss: 0.0075\n",
      "Epoch 82/100\n",
      " - 40s - loss: 0.0077 - val_loss: 0.0076\n",
      "Epoch 83/100\n",
      " - 44s - loss: 0.0076 - val_loss: 0.0077\n",
      "Epoch 84/100\n",
      " - 43s - loss: 0.0077 - val_loss: 0.0075\n",
      "Epoch 85/100\n",
      " - 43s - loss: 0.0076 - val_loss: 0.0076\n",
      "Epoch 86/100\n",
      " - 43s - loss: 0.0077 - val_loss: 0.0075\n",
      "Epoch 87/100\n",
      " - 41s - loss: 0.0076 - val_loss: 0.0076\n",
      "Epoch 88/100\n",
      " - 43s - loss: 0.0077 - val_loss: 0.0077\n",
      "Epoch 89/100\n",
      " - 44s - loss: 0.0076 - val_loss: 0.0076\n",
      "Epoch 90/100\n",
      " - 43s - loss: 0.0076 - val_loss: 0.0076\n",
      "Epoch 91/100\n",
      " - 43s - loss: 0.0076 - val_loss: 0.0076\n",
      "Epoch 92/100\n",
      " - 43s - loss: 0.0076 - val_loss: 0.0075\n",
      "Epoch 93/100\n",
      " - 43s - loss: 0.0076 - val_loss: 0.0075\n",
      "Epoch 94/100\n",
      " - 43s - loss: 0.0076 - val_loss: 0.0076\n",
      "Epoch 95/100\n",
      " - 43s - loss: 0.0076 - val_loss: 0.0074\n",
      "Epoch 96/100\n",
      " - 43s - loss: 0.0076 - val_loss: 0.0075\n",
      "Epoch 97/100\n",
      " - 42s - loss: 0.0076 - val_loss: 0.0075\n",
      "Epoch 98/100\n",
      " - 42s - loss: 0.0076 - val_loss: 0.0075\n",
      "Epoch 99/100\n",
      " - 43s - loss: 0.0076 - val_loss: 0.0075\n",
      "Epoch 100/100\n",
      " - 43s - loss: 0.0076 - val_loss: 0.0075\n"
     ]
    }
   ],
   "source": [
    "# design network\n",
    "model = Sequential()\n",
    "model.add(LSTM(24, input_shape=(train_X.shape[1], train_X.shape[2])))\n",
    "model.add(Dense(1))\n",
    "model.compile(loss='mae', optimizer='adam')\n",
    "\n",
    "# fit network\n",
    "history = model.fit(train_X, train_y, epochs=100, batch_size=100,\n",
    "                    validation_data=(test_X, test_y), verbose=2, shuffle=False)"
   ]
  },
  {
   "cell_type": "code",
   "execution_count": 8,
   "metadata": {},
   "outputs": [
    {
     "data": {
      "image/png": "[encoded data removed]",
      "text/plain": [
       "<Figure size 720x720 with 1 Axes>"
      ]
     },
     "metadata": {},
     "output_type": "display_data"
    }
   ],
   "source": [
    "history_loss = pd.DataFrame()\n",
    "history_loss['train'] = history.history['loss']\n",
    "history_loss['test'] = history.history['val_loss']\n",
    "history_loss.plot(figsize=(10,10), fontsize=16,\n",
    "                title='LSTM Model Loss');"
   ]
  },
  {
   "cell_type": "code",
   "execution_count": 9,
   "metadata": {},
   "outputs": [
    {
     "name": "stdout",
     "output_type": "stream",
     "text": [
      "R2:   0.9917217752103871\n",
      "MAE:  72.51037\n",
      "RMSE: 101.0424908686316\n",
      "mean absolute error percentage:  3.747887909412384\n"
     ]
    }
   ],
   "source": [
    "# make a prediction \n",
    "yhat = model.predict(test_X)\n",
    "# reshape back to 2d\n",
    "test_X = test_X.reshape((test_X.shape[0], -1))\n",
    "\n",
    "# invert scaling for forecast# invert \n",
    "inv_yhat = np.concatenate((test[:, 235:239], yhat), axis=1)\n",
    "inv_yhat = scaler.inverse_transform(inv_yhat)\n",
    "inv_yhat = inv_yhat[:,-1]\n",
    "\n",
    "# invert scaling for actual\n",
    "test_y = test_y.reshape((len(test_y), 1))\n",
    "inv_y = np.concatenate((test[:, 235:239], test_y), axis=1)\n",
    "inv_y = scaler.inverse_transform(inv_y)\n",
    "inv_y = inv_y[:,-1]\n",
    "inv_yhat_gte_zero = inv_yhat.copy()\n",
    "inv_yhat_gte_zero[inv_yhat_gte_zero < 0] = 0\n",
    "\n",
    "# calculate r2\n",
    "print(\"R2:  \", r2_score(inv_y, inv_yhat))\n",
    "\n",
    "# calculate mean absolute error\n",
    "print(\"MAE: \", mean_absolute_error(inv_y, inv_yhat))\n",
    "\n",
    "# calculate rmse\n",
    "rmse = math.sqrt(mean_squared_error(inv_y, inv_yhat))\n",
    "print(\"RMSE:\", rmse)\n",
    "\n",
    "# calculate mean absolute error percentage\n",
    "maep = np.mean(np.abs((inv_y - inv_yhat)/inv_y))*100\n",
    "print(\"mean absolute error percentage: \", maep)"
   ]
  },
  {
   "cell_type": "code",
   "execution_count": 10,
   "metadata": {},
   "outputs": [],
   "source": [
    "error = np.abs((inv_y - inv_yhat)/inv_y)"
   ]
  },
  {
   "cell_type": "code",
   "execution_count": 11,
   "metadata": {},
   "outputs": [
    {
     "name": "stdout",
     "output_type": "stream",
     "text": [
      "10445 0.998805\n"
     ]
    }
   ],
   "source": [
    "worst1 = np.argmax(error)\n",
    "worst1_val = np.max(error)\n",
    "error = np.delete(error, worst1)\n",
    "print(worst1, worst1_val)"
   ]
  },
  {
   "cell_type": "code",
   "execution_count": 12,
   "metadata": {},
   "outputs": [
    {
     "name": "stdout",
     "output_type": "stream",
     "text": [
      "96 0.6394991\n"
     ]
    }
   ],
   "source": [
    "worst2 = np.argmax(error)\n",
    "worst2_val = np.max(error)\n",
    "error = np.delete(error, worst2)\n",
    "print(worst2, worst2_val)"
   ]
  },
  {
   "cell_type": "code",
   "execution_count": 13,
   "metadata": {},
   "outputs": [
    {
     "name": "stdout",
     "output_type": "stream",
     "text": [
      "10446 0.53875697\n"
     ]
    }
   ],
   "source": [
    "worst3 = np.argmax(error)\n",
    "worst3_val = np.max(error)\n",
    "error = np.delete(error, worst3)\n",
    "print(worst3, worst3_val)"
   ]
  },
  {
   "cell_type": "code",
   "execution_count": 14,
   "metadata": {},
   "outputs": [
    {
     "name": "stdout",
     "output_type": "stream",
     "text": [
      "5271 0.53431416\n"
     ]
    }
   ],
   "source": [
    "worst4 = np.argmax(error)\n",
    "worst4_val = np.max(error)\n",
    "error = np.delete(error, worst4)\n",
    "print(worst4, worst4_val)"
   ]
  },
  {
   "cell_type": "code",
   "execution_count": 15,
   "metadata": {},
   "outputs": [
    {
     "name": "stdout",
     "output_type": "stream",
     "text": [
      "8305 0.51947445\n"
     ]
    }
   ],
   "source": [
    "worst5 = np.argmax(error)\n",
    "worst5_val = np.max(error)\n",
    "error = np.delete(error, worst5)\n",
    "print(worst5, worst5_val)"
   ]
  },
  {
   "cell_type": "code",
   "execution_count": 16,
   "metadata": {},
   "outputs": [
    {
     "name": "stdout",
     "output_type": "stream",
     "text": [
      "97 0.5057564\n"
     ]
    }
   ],
   "source": [
    "worst6 = np.argmax(error)\n",
    "worst6_val = np.max(error)\n",
    "error = np.delete(error, worst6)\n",
    "print(worst6, worst6_val)"
   ]
  },
  {
   "cell_type": "code",
   "execution_count": 17,
   "metadata": {},
   "outputs": [
    {
     "name": "stdout",
     "output_type": "stream",
     "text": [
      "10440 0.5023154\n"
     ]
    }
   ],
   "source": [
    "worst7 = np.argmax(error)\n",
    "worst7_val = np.max(error)\n",
    "error = np.delete(error, worst7)\n",
    "print(worst7, worst7_val)"
   ]
  },
  {
   "cell_type": "code",
   "execution_count": 18,
   "metadata": {},
   "outputs": [
    {
     "name": "stdout",
     "output_type": "stream",
     "text": [
      "10444 0.5022303\n"
     ]
    }
   ],
   "source": [
    "worst8 = np.argmax(error)\n",
    "worst8_val = np.max(error)\n",
    "error = np.delete(error, worst8)\n",
    "print(worst8, worst8_val)"
   ]
  },
  {
   "cell_type": "code",
   "execution_count": 19,
   "metadata": {},
   "outputs": [
    {
     "name": "stdout",
     "output_type": "stream",
     "text": [
      "8306 0.49687505\n"
     ]
    }
   ],
   "source": [
    "worst9 = np.argmax(error)\n",
    "worst9_val = np.max(error)\n",
    "error = np.delete(error, worst9)\n",
    "print(worst9, worst9_val)"
   ]
  },
  {
   "cell_type": "code",
   "execution_count": 20,
   "metadata": {},
   "outputs": [
    {
     "name": "stdout",
     "output_type": "stream",
     "text": [
      "34521 0.48999658\n"
     ]
    }
   ],
   "source": [
    "worst10 = np.argmax(error)\n",
    "worst10_val = np.max(error)\n",
    "error = np.delete(error, worst10)\n",
    "print(worst10, worst10_val)"
   ]
  },
  {
   "cell_type": "code",
   "execution_count": 21,
   "metadata": {},
   "outputs": [
    {
     "name": "stdout",
     "output_type": "stream",
     "text": [
      "10432 0.47583744\n"
     ]
    }
   ],
   "source": [
    "worst11 = np.argmax(error)\n",
    "worst11_val = np.max(error)\n",
    "error = np.delete(error, worst11)\n",
    "print(worst11, worst11_val)"
   ]
  },
  {
   "cell_type": "code",
   "execution_count": 22,
   "metadata": {},
   "outputs": [
    {
     "name": "stdout",
     "output_type": "stream",
     "text": [
      "10432 0.45203796\n"
     ]
    }
   ],
   "source": [
    "worst12 = np.argmax(error)\n",
    "worst12_val = np.max(error)\n",
    "error = np.delete(error, worst12)\n",
    "print(worst12, worst12_val)"
   ]
  },
  {
   "cell_type": "code",
   "execution_count": 23,
   "metadata": {},
   "outputs": [
    {
     "name": "stdout",
     "output_type": "stream",
     "text": [
      "34309 0.45174634\n"
     ]
    }
   ],
   "source": [
    "worst13 = np.argmax(error)\n",
    "worst13_val = np.max(error)\n",
    "error = np.delete(error, worst13)\n",
    "print(worst13, worst13_val)"
   ]
  },
  {
   "cell_type": "code",
   "execution_count": 24,
   "metadata": {},
   "outputs": [
    {
     "name": "stdout",
     "output_type": "stream",
     "text": [
      "10437 0.39103684\n"
     ]
    }
   ],
   "source": [
    "worst14 = np.argmax(error)\n",
    "worst14_val = np.max(error)\n",
    "error = np.delete(error, worst14)\n",
    "print(worst14, worst14_val)"
   ]
  },
  {
   "cell_type": "code",
   "execution_count": 25,
   "metadata": {},
   "outputs": [
    {
     "name": "stdout",
     "output_type": "stream",
     "text": [
      "8306 0.38309148\n"
     ]
    }
   ],
   "source": [
    "worst15 = np.argmax(error)\n",
    "worst15_val = np.max(error)\n",
    "error = np.delete(error, worst15)\n",
    "print(worst15, worst15_val)"
   ]
  },
  {
   "cell_type": "code",
   "execution_count": 26,
   "metadata": {},
   "outputs": [
    {
     "name": "stdout",
     "output_type": "stream",
     "text": [
      "37467 0.3825549\n"
     ]
    }
   ],
   "source": [
    "worst16 = np.argmax(error)\n",
    "worst16_val = np.max(error)\n",
    "error = np.delete(error, worst16)\n",
    "print(worst16, worst16_val)"
   ]
  },
  {
   "cell_type": "code",
   "execution_count": 27,
   "metadata": {},
   "outputs": [
    {
     "name": "stdout",
     "output_type": "stream",
     "text": [
      "10431 0.3709054\n"
     ]
    }
   ],
   "source": [
    "worst17 = np.argmax(error)\n",
    "worst17_val = np.max(error)\n",
    "error = np.delete(error, worst17)\n",
    "print(worst17, worst17_val)"
   ]
  },
  {
   "cell_type": "code",
   "execution_count": 28,
   "metadata": {},
   "outputs": [
    {
     "name": "stdout",
     "output_type": "stream",
     "text": [
      "26212 0.3670819\n"
     ]
    }
   ],
   "source": [
    "worst18 = np.argmax(error)\n",
    "worst18_val = np.max(error)\n",
    "error = np.delete(error, worst18)\n",
    "print(worst18, worst18_val)"
   ]
  },
  {
   "cell_type": "code",
   "execution_count": 29,
   "metadata": {},
   "outputs": [
    {
     "name": "stdout",
     "output_type": "stream",
     "text": [
      "34305 0.3522231\n"
     ]
    }
   ],
   "source": [
    "worst19 = np.argmax(error)\n",
    "worst19_val = np.max(error)\n",
    "error = np.delete(error, worst19)\n",
    "print(worst19, worst19_val)"
   ]
  },
  {
   "cell_type": "code",
   "execution_count": 30,
   "metadata": {},
   "outputs": [
    {
     "name": "stdout",
     "output_type": "stream",
     "text": [
      "10431 0.3405935\n"
     ]
    }
   ],
   "source": [
    "worst20 = np.argmax(error)\n",
    "worst20_val = np.max(error)\n",
    "error = np.delete(error, worst20)\n",
    "print(worst20, worst20_val)"
   ]
  },
  {
   "cell_type": "code",
   "execution_count": null,
   "metadata": {},
   "outputs": [],
   "source": []
  }
 ],
 "metadata": {
  "kernelspec": {
   "display_name": "Python 3",
   "language": "python",
   "name": "python3"
  },
  "language_info": {
   "codemirror_mode": {
    "name": "ipython",
    "version": 3
   },
   "file_extension": ".py",
   "mimetype": "text/x-python",
   "name": "python",
   "nbconvert_exporter": "python",
   "pygments_lexer": "ipython3",
   "version": "3.6.4"
  }
 },
 "nbformat": 4,
 "nbformat_minor": 2
}
