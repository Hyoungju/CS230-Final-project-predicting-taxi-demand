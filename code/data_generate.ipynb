{
 "cells": [
  {
   "cell_type": "code",
   "execution_count": 2,
   "metadata": {},
   "outputs": [],
   "source": [
    "import pandas as pd"
   ]
  },
  {
   "cell_type": "markdown",
   "metadata": {},
   "source": [
    "Car demand data arrange"
   ]
  },
  {
   "cell_type": "code",
   "execution_count": null,
   "metadata": {},
   "outputs": [],
   "source": [
    "import pandas as pd\n",
    "for i in range(1, 13):\n",
    "  data = pd.read_csv('C:\\\\Users\\\\shj50\\\\Documents\\\\grad AA\\\\AA\\\\first spring\\\\230(deep learning)\\\\final project\\\\yellow_tripdata_2014-'+ str(i) + '.csv')\n",
    "  columns = data.columns\n",
    "  data = data.drop(['vendor_id', ' dropoff_datetime',\n",
    "       ' passenger_count', ' trip_distance', ' rate_code', ' store_and_fwd_flag',\n",
    "       ' dropoff_longitude', ' dropoff_latitude', ' payment_type',\n",
    "       ' fare_amount', ' surcharge', ' mta_tax', ' tip_amount',\n",
    "       ' tolls_amount', ' total_amount'], axis=1)\n",
    "  data[' pickup_datetime'] = pd.to_datetime(data[' pickup_datetime'], format=\"%Y/%m/%d %H:%M:%S\")\n",
    "  data[' pickup_datetime'] = data[' pickup_datetime'].dt.strftime('%Y-%m-%d %H:%M')\n",
    "  data = data.set_index(' pickup_datetime')\n",
    "  data.to_csv('C:\\\\Users\\\\shj50\\\\Documents\\\\grad AA\\\\AA\\\\first spring\\\\230(deep learning)\\\\final project\\\\yellow_2014_'+ str(i) +'.csv')"
   ]
  },
  {
   "cell_type": "markdown",
   "metadata": {},
   "source": [
    "Calculate Car demand by time step"
   ]
  },
  {
   "cell_type": "code",
   "execution_count": null,
   "metadata": {},
   "outputs": [],
   "source": [
    "import pandas as pd\n",
    "for i in range(1, 13):\n",
    "  data = pd.read_csv('C:\\\\Users\\\\shj50\\\\Documents\\\\grad AA\\\\AA\\\\first spring\\\\230(deep learning)\\\\final project\\\\yellow_2016_'+ str(i) + '.csv')\n",
    "  columns = data.columns\n",
    "  data['num_request'] = 1\n",
    "  data['tpep_pickup_datetime'] = pd.to_datetime(data['tpep_pickup_datetime'], format=\"%Y-%m-%d %H:%M\")\n",
    "  data = data.set_index('tpep_pickup_datetime')\n",
    "  if 'PULocationID' in data.columns:\n",
    "    data.drop(['PULocationID'], axis = 1)\n",
    "  if 'Pickup_longitude' in data.columns:\n",
    "    data.drop(['Pickup_longitude', 'Pickup_latitude'], axis = 1)\n",
    "  if 'pickup_longitude' in data.columns:\n",
    "    data.drop(['pickup_longitude', 'pickup_latitude'], axis = 1)\n",
    "  data = data.resample('T').agg({'num_request' : 'count'})\n",
    "  if i == 1:\n",
    "    data_total = data\n",
    "  else:\n",
    "    data_total = pd.concat([data_total, data])\n",
    "    \n",
    "data_total.to_csv('C:\\\\Users\\\\shj50\\\\Documents\\\\grad AA\\\\AA\\\\first spring\\\\230(deep learning)\\\\final project\\\\yellow_2016.csv')\n",
    "  "
   ]
  },
  {
   "cell_type": "markdown",
   "metadata": {},
   "source": [
    "Merge all data(green, yellow, weather)"
   ]
  },
  {
   "cell_type": "code",
   "execution_count": null,
   "metadata": {},
   "outputs": [],
   "source": [
    "for i in range(4, 8):\n",
    "  data = pd.read_csv('C:\\\\Users\\\\shj50\\\\Documents\\\\grad AA\\\\AA\\\\first spring\\\\230(deep learning)\\\\final project\\\\data_by_minute\\\\yellow_201'+ str(i) + '.csv')\n",
    "  data['time'] = pd.to_datetime(data['time'], format=\"%Y-%m-%d %H:%M\")\n",
    "  data = data.set_index('time')\n",
    "  if i == 4:\n",
    "    data_total = data\n",
    "  else:\n",
    "    data_total = pd.concat([data_total, data])\n",
    "data_total.to_csv('C:\\\\Users\\\\shj50\\\\Documents\\\\grad AA\\\\AA\\\\first spring\\\\230(deep learning)\\\\final project\\\\data_by_minute\\\\yellow.csv') \n",
    "\n",
    "for i in range(4, 8):\n",
    "  data = pd.read_csv('C:\\\\Users\\\\shj50\\\\Documents\\\\grad AA\\\\AA\\\\first spring\\\\230(deep learning)\\\\final project\\\\data_by_minute\\\\green_201'+ str(i) + '.csv')\n",
    "  data['time'] = pd.to_datetime(data['time'], format=\"%Y-%m-%d %H:%M\")\n",
    "  data = data.set_index('time')\n",
    "  if i == 4:\n",
    "    data_total = data\n",
    "  else:\n",
    "    data_total = pd.concat([data_total, data])\n",
    "data_total.to_csv('C:\\\\Users\\\\shj50\\\\Documents\\\\grad AA\\\\AA\\\\first spring\\\\230(deep learning)\\\\final project\\\\data_by_minute\\\\green.csv')  \n",
    "\n",
    "weather = pd.read_csv('C:\\\\Users\\\\shj50\\\\Documents\\\\grad AA\\\\AA\\\\first spring\\\\230(deep learning)\\\\final project\\\\data_by_minute\\\\precipitation_by_minute.csv')\n",
    "#get the same length of data\n",
    "weather = weather[:1971360]\n",
    "green = pd.read_csv('C:\\\\Users\\\\shj50\\\\Documents\\\\grad AA\\\\AA\\\\first spring\\\\230(deep learning)\\\\final project\\\\data_by_minute\\\\green.csv')\n",
    "yellow = pd.read_csv('C:\\\\Users\\\\shj50\\\\Documents\\\\grad AA\\\\AA\\\\first spring\\\\230(deep learning)\\\\final project\\\\data_by_minute\\\\yellow.csv')\n",
    "\n",
    "green.drop(['time'], axis = 1)\n",
    "yellow.drop(['time'], axis = 1)\n",
    "result = pd.concat([weather, green, yellow], axis=1)\n",
    "result['total'] = result['green'] + result['yellow']\n",
    "\n",
    "result.to_csv('C:\\\\Users\\\\shj50\\\\Documents\\\\grad AA\\\\AA\\\\first spring\\\\230(deep learning)\\\\final project\\\\data_by_minute\\\\final.csv')"
   ]
  },
  {
   "cell_type": "code",
   "execution_count": null,
   "metadata": {},
   "outputs": [],
   "source": [
    "weather = pd.read_csv('exact_condition_data.csv')\n",
    "\n",
    "green = pd.read_csv('green.csv')\n",
    "yellow = pd.read_csv('yellow.csv')\n",
    "\n",
    "#generate minute step data\n",
    "new_green = green.groupby(green.index // 20 * 20).sum()\n",
    "new_yellow = yellow.groupby(yellow.index // 20 * 20).sum()\n",
    "weather = pd.concat([weather]*3 , ignore_index=True)\n",
    "weather['Unnamed: 0'] = pd.to_datetime(weather['Unnamed: 0'], format=\"%Y-%m-%d %H:00\")\n",
    "weather = weather.sort_values(by=['Unnamed: 0'])\n",
    "new_weather = weather.set_index('Unnamed: 0')\n",
    "new_green = new_green.set_index(new_weather.index)\n",
    "new_yellow = new_yellow.set_index(new_weather.index)\n",
    "result = pd.concat([new_weather, new_green, new_yellow], axis=1)\n",
    "result['total'] = result['green'] + result['yellow']\n",
    "\n",
    "result.to_csv('final_20minutes.csv')"
   ]
  }
 ],
 "metadata": {
  "kernelspec": {
   "display_name": "Python 3",
   "language": "python",
   "name": "python3"
  },
  "language_info": {
   "codemirror_mode": {
    "name": "ipython",
    "version": 3
   },
   "file_extension": ".py",
   "mimetype": "text/x-python",
   "name": "python",
   "nbconvert_exporter": "python",
   "pygments_lexer": "ipython3",
   "version": "3.6.4"
  }
 },
 "nbformat": 4,
 "nbformat_minor": 2
}
