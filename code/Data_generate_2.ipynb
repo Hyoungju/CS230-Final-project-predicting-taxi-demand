{
 "cells": [
  {
   "cell_type": "code",
   "execution_count": 10,
   "metadata": {},
   "outputs": [],
   "source": [
    "import pandas as pd"
   ]
  },
  {
   "cell_type": "code",
   "execution_count": 11,
   "metadata": {},
   "outputs": [
    {
     "name": "stdout",
     "output_type": "stream",
     "text": [
      "(1971360, 2)\n"
     ]
    }
   ],
   "source": [
    "weather = pd.read_csv('exact_condition_data.csv')\n",
    "\n",
    "green = pd.read_csv('green.csv')\n",
    "yellow = pd.read_csv('yellow.csv')\n",
    "print(green.shape)"
   ]
  },
  {
   "cell_type": "code",
   "execution_count": 12,
   "metadata": {},
   "outputs": [],
   "source": [
    "new_green = green.groupby(green.index // 10 * 10).sum()\n",
    "new_yellow = yellow.groupby(yellow.index // 10 * 10).sum()"
   ]
  },
  {
   "cell_type": "code",
   "execution_count": 13,
   "metadata": {},
   "outputs": [],
   "source": [
    "weather = pd.concat([weather]*6 , ignore_index=True)\n",
    "weather['Unnamed: 0'] = pd.to_datetime(weather['Unnamed: 0'], format=\"%Y-%m-%d %H:00\")\n",
    "weather = weather.sort_values(by=['Unnamed: 0'])"
   ]
  },
  {
   "cell_type": "code",
   "execution_count": 14,
   "metadata": {},
   "outputs": [],
   "source": [
    "new_weather = weather.set_index('Unnamed: 0')"
   ]
  },
  {
   "cell_type": "code",
   "execution_count": 15,
   "metadata": {},
   "outputs": [],
   "source": [
    "new_green = new_green.set_index(new_weather.index)\n",
    "new_yellow = new_yellow.set_index(new_weather.index)"
   ]
  },
  {
   "cell_type": "code",
   "execution_count": 16,
   "metadata": {},
   "outputs": [],
   "source": [
    "result = pd.concat([new_weather, new_green, new_yellow], axis=1)\n",
    "result['total'] = result['green'] + result['yellow']\n",
    "\n",
    "result.to_csv('final_10minutes.csv')"
   ]
  },
  {
   "cell_type": "code",
   "execution_count": 17,
   "metadata": {},
   "outputs": [
    {
     "data": {
      "text/plain": [
       "(197136, 8)"
      ]
     },
     "execution_count": 17,
     "metadata": {},
     "output_type": "execute_result"
    }
   ],
   "source": [
    "result.shape"
   ]
  },
  {
   "cell_type": "code",
   "execution_count": null,
   "metadata": {},
   "outputs": [],
   "source": []
  }
 ],
 "metadata": {
  "kernelspec": {
   "display_name": "Python 3",
   "language": "python",
   "name": "python3"
  },
  "language_info": {
   "codemirror_mode": {
    "name": "ipython",
    "version": 3
   },
   "file_extension": ".py",
   "mimetype": "text/x-python",
   "name": "python",
   "nbconvert_exporter": "python",
   "pygments_lexer": "ipython3",
   "version": "3.6.4"
  }
 },
 "nbformat": 4,
 "nbformat_minor": 2
}
